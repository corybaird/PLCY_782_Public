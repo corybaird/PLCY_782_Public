{
 "cells": [
  {
   "cell_type": "markdown",
   "id": "failing-findings",
   "metadata": {},
   "source": [
    "# TA_6_PS2"
   ]
  },
  {
   "cell_type": "markdown",
   "id": "muslim-hands",
   "metadata": {},
   "source": [
    "## A.1 Install packages\n"
   ]
  },
  {
   "cell_type": "code",
   "execution_count": null,
   "id": "quality-antibody",
   "metadata": {},
   "outputs": [],
   "source": [
    "#Step 1\n",
    "install.packages('downloader')\n",
    "install.packages('dplyr')\n",
    "install.packages('ggplot2')"
   ]
  },
  {
   "cell_type": "code",
   "execution_count": null,
   "id": "dimensional-wedding",
   "metadata": {
    "lines_to_next_cell": 2
   },
   "outputs": [],
   "source": [
    "#Step 2\n",
    "library(foreign) #Imports dta files\n",
    "library(dplyr) #Data manipulation\n",
    "library(ggplot2)"
   ]
  },
  {
   "cell_type": "markdown",
   "id": "convinced-thompson",
   "metadata": {},
   "source": [
    "## A.2 Download data \n",
    "### A.2.1 Data set: http://www.ennvih-mxfls.org/english/ennvih-1.html"
   ]
  },
  {
   "cell_type": "code",
   "execution_count": null,
   "id": "decreased-philippines",
   "metadata": {},
   "outputs": [],
   "source": [
    "#URL \n",
    "url_cons = \"http://www.ennvih-mxfls.org/english/assets/hh02dta_b1.zip\"\n",
    "#File name\n",
    "file_name = \"mxfls_cons.zip\"\n",
    "# \"Downloader\" library--function: download.file()\n",
    "download.file(url_cons, file_name)\n",
    "#Unzip file\n",
    "unzip(\"mxfls_cons.zip\")"
   ]
  },
  {
   "cell_type": "markdown",
   "id": "assured-lotus",
   "metadata": {},
   "source": [
    "### A.2.2 Data set from PS1\n"
   ]
  },
  {
   "cell_type": "code",
   "execution_count": null,
   "id": "norman-directive",
   "metadata": {
    "lines_to_next_cell": 2
   },
   "outputs": [],
   "source": [
    "url = \"http://www.ennvih-mxfls.org/english/assets/hh02dta_bc.zip\"\n",
    "#File name\n",
    "file_name = \"mxfls.zip\"\n",
    "# \"Downloader\" library--function: download.file()\n",
    "download.file(url, file_name)\n",
    "unzip(\"mxfls.zip\")"
   ]
  },
  {
   "cell_type": "markdown",
   "id": "fifteen-education",
   "metadata": {},
   "source": [
    "### A.2.1 Import file into R\n"
   ]
  },
  {
   "cell_type": "code",
   "execution_count": null,
   "id": "precious-copper",
   "metadata": {
    "lines_to_next_cell": 2
   },
   "outputs": [],
   "source": [
    "df_cons = read.dta(\"hh02dta_b1/i_cs.dta\")"
   ]
  },
  {
   "cell_type": "markdown",
   "id": "animal-pension",
   "metadata": {},
   "source": [
    "# 1. Select columns"
   ]
  },
  {
   "cell_type": "markdown",
   "id": "contained-hometown",
   "metadata": {},
   "source": [
    "## 1.A Show columns\n"
   ]
  },
  {
   "cell_type": "code",
   "execution_count": null,
   "id": "monthly-irrigation",
   "metadata": {},
   "outputs": [],
   "source": [
    "df_cons %>% \n",
    "  names()"
   ]
  },
  {
   "cell_type": "markdown",
   "id": "sixth-thinking",
   "metadata": {},
   "source": [
    "## 1.1 Select column containing specific string (text)\n"
   ]
  },
  {
   "cell_type": "code",
   "execution_count": null,
   "id": "naked-prerequisite",
   "metadata": {},
   "outputs": [],
   "source": [
    "df_cons  %>% \n",
    "  select(contains('cs02')) %>% \n",
    "  names()"
   ]
  },
  {
   "cell_type": "markdown",
   "id": "twenty-underwear",
   "metadata": {},
   "source": [
    "## 1.2 Select column ending with specific string (text)\n"
   ]
  },
  {
   "cell_type": "code",
   "execution_count": null,
   "id": "incident-condition",
   "metadata": {
    "lines_to_next_cell": 2
   },
   "outputs": [],
   "source": [
    "df_cons  %>% \n",
    "  select(ends_with('32')) %>% \n",
    "  names()"
   ]
  },
  {
   "cell_type": "markdown",
   "id": "southern-mirror",
   "metadata": {
    "lines_to_next_cell": 2
   },
   "source": [
    "## 1.3 Combine ends_with and contains functions\n"
   ]
  },
  {
   "cell_type": "code",
   "execution_count": null,
   "id": "mediterranean-demand",
   "metadata": {
    "lines_to_next_cell": 2
   },
   "outputs": [],
   "source": [
    "df_cons  %>% \n",
    "  select(ends_with('32') & contains('cs04')) %>% \n",
    "  names()"
   ]
  },
  {
   "cell_type": "markdown",
   "id": "other-literacy",
   "metadata": {},
   "source": [
    "# 2. Multiply multiple columns by scalar\n"
   ]
  },
  {
   "cell_type": "code",
   "execution_count": null,
   "id": "dutch-excerpt",
   "metadata": {},
   "outputs": [],
   "source": [
    "df_cons %>% \n",
    "  names()"
   ]
  },
  {
   "cell_type": "markdown",
   "id": "billion-promotion",
   "metadata": {
    "lines_to_next_cell": 2
   },
   "source": [
    "## 2.1 Select multiple columns\n"
   ]
  },
  {
   "cell_type": "code",
   "execution_count": null,
   "id": "simplified-telephone",
   "metadata": {
    "lines_to_next_cell": 2
   },
   "outputs": [],
   "source": [
    "df_cons %>% \n",
    "  select(cs16h_2:cs18_2) %>% \n",
    "  head(4)"
   ]
  },
  {
   "cell_type": "markdown",
   "id": "third-japan",
   "metadata": {},
   "source": [
    "## 2.2 Select multiple columns and mutate them\n"
   ]
  },
  {
   "cell_type": "code",
   "execution_count": null,
   "id": "cellular-surveillance",
   "metadata": {
    "lines_to_next_cell": 2
   },
   "outputs": [],
   "source": [
    "df_cons %>% \n",
    "  mutate_at(vars(cs16h_2:cs18_2), ~ . *4.3) %>% # multiply columns selected by 4.3\n",
    "  select(cs16h_2:cs18_2)%>% \n",
    "  head(4)"
   ]
  },
  {
   "cell_type": "markdown",
   "id": "structured-portugal",
   "metadata": {},
   "source": [
    "# 3. Row sums\n",
    "## 3.A create example dataframe"
   ]
  },
  {
   "cell_type": "code",
   "execution_count": null,
   "id": "collect-racing",
   "metadata": {},
   "outputs": [],
   "source": [
    "df_cons_example = df_cons %>% \n",
    "  select(cs16h_2,cs16i_2,cs16f_2) "
   ]
  },
  {
   "cell_type": "code",
   "execution_count": null,
   "id": "fitted-aspect",
   "metadata": {
    "lines_to_next_cell": 2
   },
   "outputs": [],
   "source": [
    "df_cons_example %>% \n",
    "  head(5)"
   ]
  },
  {
   "cell_type": "markdown",
   "id": "parallel-living",
   "metadata": {},
   "source": [
    "## 3.1 Row sum\n"
   ]
  },
  {
   "cell_type": "code",
   "execution_count": null,
   "id": "prime-poster",
   "metadata": {
    "lines_to_next_cell": 2
   },
   "outputs": [],
   "source": [
    "df_cons_example %>% \n",
    "  mutate(\n",
    "    total_cons = rowSums(.)\n",
    "           ) %>% \n",
    "  head(5)"
   ]
  },
  {
   "cell_type": "markdown",
   "id": "eligible-tradition",
   "metadata": {},
   "source": [
    "## 3.2 Row sum with NA filter\n"
   ]
  },
  {
   "cell_type": "code",
   "execution_count": null,
   "id": "convenient-winner",
   "metadata": {
    "lines_to_next_cell": 2
   },
   "outputs": [],
   "source": [
    "df_cons_example %>% \n",
    "  replace(is.na(.), 0) %>% # replaces all NA with zero\n",
    "  mutate(\n",
    "    total_cons = rowSums(.)\n",
    "  ) %>% \n",
    "  head(5)"
   ]
  },
  {
   "cell_type": "markdown",
   "id": "documentary-overview",
   "metadata": {},
   "source": [
    "# 4. Histogram"
   ]
  },
  {
   "cell_type": "markdown",
   "id": "dense-revelation",
   "metadata": {},
   "source": [
    "## 4.a Save data\n"
   ]
  },
  {
   "cell_type": "code",
   "execution_count": null,
   "id": "catholic-berry",
   "metadata": {},
   "outputs": [],
   "source": [
    "df_cons_example = df_cons_example %>% \n",
    "  replace(is.na(.), 0) %>% # replaces all NA with zero\n",
    "  mutate(\n",
    "    total_cons = rowSums(.)\n",
    "  )  "
   ]
  },
  {
   "cell_type": "markdown",
   "id": "fallen-ideal",
   "metadata": {},
   "source": [
    "## 4.1 Histogram"
   ]
  },
  {
   "cell_type": "code",
   "execution_count": null,
   "id": "intense-making",
   "metadata": {},
   "outputs": [],
   "source": [
    "histogram_df = df_cons_example %>% \n",
    "  filter(total_cons<10000) #Remove outlier for example"
   ]
  },
  {
   "cell_type": "code",
   "execution_count": null,
   "id": "expressed-cattle",
   "metadata": {
    "lines_to_next_cell": 2
   },
   "outputs": [],
   "source": [
    "histogram_df %>% \n",
    "  ggplot(aes(x=total_cons))+ geom_histogram(color=\"darkblue\", fill=\"lightblue\")"
   ]
  },
  {
   "cell_type": "markdown",
   "id": "pharmaceutical-ocean",
   "metadata": {},
   "source": [
    "# 5. Poverty line--Using saved objects"
   ]
  },
  {
   "cell_type": "markdown",
   "id": "southwest-karaoke",
   "metadata": {},
   "source": [
    "## 5.1 Filter by saved object"
   ]
  },
  {
   "cell_type": "code",
   "execution_count": null,
   "id": "independent-kennedy",
   "metadata": {},
   "outputs": [],
   "source": [
    "povertyline = 300 #saved object"
   ]
  },
  {
   "cell_type": "code",
   "execution_count": null,
   "id": "knowing-effects",
   "metadata": {},
   "outputs": [],
   "source": [
    "df_cons_example = df_cons_example %>% \n",
    "  mutate(pov_dummy = as.numeric(total_cons<povertyline)) "
   ]
  },
  {
   "cell_type": "code",
   "execution_count": null,
   "id": "lovely-queue",
   "metadata": {
    "lines_to_next_cell": 2
   },
   "outputs": [],
   "source": [
    "df_cons_example %>% \n",
    "  head(5)"
   ]
  },
  {
   "cell_type": "markdown",
   "id": "hungry-dressing",
   "metadata": {},
   "source": [
    "## 5.1.1 Calculate poverty rate with dummy"
   ]
  },
  {
   "cell_type": "code",
   "execution_count": null,
   "id": "decent-macintosh",
   "metadata": {},
   "outputs": [],
   "source": [
    "df_cons_example %>% \n",
    "  summarise(\n",
    "    pov_rate = mean(pov_dummy)\n",
    "  )"
   ]
  },
  {
   "cell_type": "markdown",
   "id": "saved-gamma",
   "metadata": {},
   "source": [
    "### 5.2 Pov gap\n",
    "### 5.2.1 Create poverty gap for every observation"
   ]
  },
  {
   "cell_type": "code",
   "execution_count": null,
   "id": "modern-relation",
   "metadata": {
    "lines_to_next_cell": 2
   },
   "outputs": [],
   "source": [
    "df_cons_example %>% \n",
    "  filter(pov_dummy==1) %>% \n",
    "  mutate(pov_gap = povertyline-total_cons) %>% head(4)"
   ]
  },
  {
   "cell_type": "markdown",
   "id": "printable-canon",
   "metadata": {},
   "source": [
    "### 5.2.2 Using mean function with NAs\n"
   ]
  },
  {
   "cell_type": "code",
   "execution_count": null,
   "id": "settled-grammar",
   "metadata": {},
   "outputs": [],
   "source": [
    "df_cons_example %>% \n",
    "  filter(pov_dummy==1) %>% \n",
    "  mutate(pov_gap = povertyline-total_cons) %>% \n",
    "  summarise(\n",
    "    pov_gap_calculation = mean(pov_gap, rm.na=TRUE) \n",
    "  )"
   ]
  },
  {
   "cell_type": "markdown",
   "id": "exceptional-bibliography",
   "metadata": {
    "lines_to_next_cell": 2
   },
   "source": [
    "### 5.2.3 Write answer as excel\n"
   ]
  },
  {
   "cell_type": "code",
   "execution_count": null,
   "id": "olive-general",
   "metadata": {},
   "outputs": [],
   "source": [
    "df_cons_example %>% \n",
    "  filter(pov_dummy==1) %>% \n",
    "  mutate(pov_gap = povertyline-total_cons) %>% \n",
    "  summarise(\n",
    "    pov_gap_calculation = mean(pov_gap, rm.na=TRUE) ,\n",
    "    pov_gap_obs = n(),\n",
    "    pov_rate =  mean(pov_dummy),\n",
    "  ) %>% write.csv('Answer_cons.csv')"
   ]
  },
  {
   "cell_type": "code",
   "execution_count": null,
   "id": "breathing-bryan",
   "metadata": {},
   "outputs": [],
   "source": []
  }
 ],
 "metadata": {
  "jupytext": {
   "cell_metadata_filter": "-all",
   "notebook_metadata_filter": "-all",
   "text_representation": {
    "extension": ".R",
    "format_name": "light"
   }
  },
  "kernelspec": {
   "display_name": "R (system-wide)",
   "language": "R",
   "name": "ir"
  }
 },
 "nbformat": 4,
 "nbformat_minor": 5
}
