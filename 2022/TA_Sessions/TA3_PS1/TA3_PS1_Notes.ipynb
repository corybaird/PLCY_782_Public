{
 "cells": [
  {
   "cell_type": "markdown",
   "id": "formal-broad",
   "metadata": {
    "lines_to_next_cell": 2
   },
   "source": [
    "# TA3_PS1_NOTES"
   ]
  },
  {
   "cell_type": "markdown",
   "id": "sophisticated-upper",
   "metadata": {},
   "source": [
    "## A.1 Download and import libraries"
   ]
  },
  {
   "cell_type": "code",
   "execution_count": null,
   "id": "connected-resident",
   "metadata": {},
   "outputs": [],
   "source": [
    "#Step 1\n",
    "#install.packages('downloader')\n",
    "#install.packages('foreign')\n",
    "#install.packages('dplyr')"
   ]
  },
  {
   "cell_type": "code",
   "execution_count": null,
   "id": "consecutive-greenhouse",
   "metadata": {},
   "outputs": [],
   "source": [
    "#Step 2\n",
    "library(foreign) #Imports dta files\n",
    "library(dplyr) #Data manipulation\n",
    "library(downloader) #Downloads files from the internet"
   ]
  },
  {
   "cell_type": "markdown",
   "id": "undefined-gravity",
   "metadata": {},
   "source": [
    "## B.1.MXFLS data"
   ]
  },
  {
   "cell_type": "markdown",
   "id": "egyptian-prescription",
   "metadata": {},
   "source": [
    "## B.1.1 Download data from the following website \n",
    "Website url: http://www.ennvih-mxfls.org/english/ennvih-1.html\n",
    "### B.1.1.1 Save strings of website and the file_name which you choose"
   ]
  },
  {
   "cell_type": "code",
   "execution_count": null,
   "id": "optical-calibration",
   "metadata": {
    "lines_to_next_cell": 2
   },
   "outputs": [],
   "source": [
    "#URL \n",
    "url = \"http://www.ennvih-mxfls.org/english/assets/hh02dta_bc.zip\"\n",
    "#File name\n",
    "file_name = \"mxfls.zip\""
   ]
  },
  {
   "cell_type": "markdown",
   "id": "judicial-avatar",
   "metadata": {},
   "source": [
    "### B.1.1.2 Download data"
   ]
  },
  {
   "cell_type": "code",
   "execution_count": null,
   "id": "charming-pipeline",
   "metadata": {},
   "outputs": [],
   "source": [
    "# \"Downloader\" library--function: download.file()\n",
    "download.file(url, file_name)"
   ]
  },
  {
   "cell_type": "markdown",
   "id": "adequate-heart",
   "metadata": {},
   "source": [
    "### B.1.1.3 Show files in zip folder"
   ]
  },
  {
   "cell_type": "code",
   "execution_count": null,
   "id": "rubber-judgment",
   "metadata": {
    "lines_to_next_cell": 2
   },
   "outputs": [],
   "source": [
    "unzip(\"mxfls.zip\", list = TRUE)"
   ]
  },
  {
   "cell_type": "markdown",
   "id": "boxed-bracelet",
   "metadata": {},
   "source": [
    "### B.1.1.4 Unzip folder\n"
   ]
  },
  {
   "cell_type": "code",
   "execution_count": null,
   "id": "clean-blocking",
   "metadata": {
    "lines_to_next_cell": 2
   },
   "outputs": [],
   "source": [
    "unzip(\"mxfls.zip\")"
   ]
  },
  {
   "cell_type": "markdown",
   "id": "blessed-inflation",
   "metadata": {},
   "source": [
    "## B.2 Import data"
   ]
  },
  {
   "cell_type": "code",
   "execution_count": null,
   "id": "random-harassment",
   "metadata": {},
   "outputs": [],
   "source": [
    "df = read.dta(\"hh02dta_bc/c_ls.dta\")"
   ]
  },
  {
   "cell_type": "code",
   "execution_count": null,
   "id": "alone-sunday",
   "metadata": {
    "lines_to_next_cell": 2
   },
   "outputs": [],
   "source": [
    "df %>% \n",
    "head(2)"
   ]
  },
  {
   "cell_type": "markdown",
   "id": "empty-mobile",
   "metadata": {},
   "source": [
    "# 1. Functions necessary to complete PS1"
   ]
  },
  {
   "cell_type": "markdown",
   "id": "julian-lawrence",
   "metadata": {},
   "source": [
    "## 1.1 Rename"
   ]
  },
  {
   "cell_type": "markdown",
   "id": "seven-priority",
   "metadata": {},
   "source": [
    "### 1.1.1 Rename: without saving"
   ]
  },
  {
   "cell_type": "code",
   "execution_count": null,
   "id": "artificial-closing",
   "metadata": {},
   "outputs": [],
   "source": [
    "# This function will not save changes\n",
    "df %>%  \n",
    "  rename(\"Age\"= \"ls02_2\",\n",
    "         \"Attendance\" = \"ls16\",\n",
    "         \"Gender\" = \"ls04\")  %>%  head(3)"
   ]
  },
  {
   "cell_type": "markdown",
   "id": "strong-regression",
   "metadata": {},
   "source": [
    "### 1.1.2 Rename: save"
   ]
  },
  {
   "cell_type": "code",
   "execution_count": null,
   "id": "julian-federation",
   "metadata": {},
   "outputs": [],
   "source": [
    "df_renamed = df %>%  \n",
    "  rename(\"Age\"= \"ls02_2\",\n",
    "         \"Attendance\" = \"ls16\",\n",
    "         \"Gender\" = \"ls04\",\n",
    "        \"Household_ID\" = 'folio',\n",
    "        \"Individual_ID\"= 'ls') "
   ]
  },
  {
   "cell_type": "code",
   "execution_count": null,
   "id": "universal-classic",
   "metadata": {},
   "outputs": [],
   "source": [
    "#Check\n",
    "df_renamed %>%  \n",
    "select(Age, Attendance, Gender, Household_ID,Individual_ID)%>%  \n",
    "head(3)"
   ]
  },
  {
   "cell_type": "markdown",
   "id": "decimal-failure",
   "metadata": {},
   "source": [
    "## 1.2 Filter: Drop rows based on condition\n",
    "- Remember filter is used in TA session 2 [here](https://nbviewer.jupyter.org/github/corybaird/PLCY_782_public/blob/main/TA_Sessions/TA2_DPLYR/TA2_DPLYR_Notes.ipynb)"
   ]
  },
  {
   "cell_type": "code",
   "execution_count": null,
   "id": "stunning-gothic",
   "metadata": {},
   "outputs": [],
   "source": [
    "#df %>%  \n",
    "#filter(Age & Age) #FILL in yourself"
   ]
  },
  {
   "cell_type": "markdown",
   "id": "given-malaysia",
   "metadata": {},
   "source": [
    "# 2.1.Inspect data"
   ]
  },
  {
   "cell_type": "markdown",
   "id": "surgical-recognition",
   "metadata": {},
   "source": [
    "## 2.1.1 Summary stats"
   ]
  },
  {
   "cell_type": "code",
   "execution_count": null,
   "id": "orange-hindu",
   "metadata": {
    "lines_to_next_cell": 2
   },
   "outputs": [],
   "source": [
    "df_renamed %>% \n",
    "  select(Attendance, Gender, Age) %>% \n",
    "  summary()"
   ]
  },
  {
   "cell_type": "markdown",
   "id": "growing-network",
   "metadata": {},
   "source": [
    "#### 2.1.1.1 Unique values\n"
   ]
  },
  {
   "cell_type": "code",
   "execution_count": null,
   "id": "answering-pendant",
   "metadata": {
    "lines_to_next_cell": 2
   },
   "outputs": [],
   "source": [
    "df_renamed %>% \n",
    "  select(Attendance) %>% \n",
    "  unique()"
   ]
  },
  {
   "cell_type": "markdown",
   "id": "future-angle",
   "metadata": {},
   "source": [
    "## 2.2 Drop na"
   ]
  },
  {
   "cell_type": "markdown",
   "id": "chief-architecture",
   "metadata": {},
   "source": [
    "## 2.2.1 Dropna by column"
   ]
  },
  {
   "cell_type": "code",
   "execution_count": null,
   "id": "legal-military",
   "metadata": {
    "lines_to_next_cell": 2
   },
   "outputs": [],
   "source": [
    "df_renamed %>%\n",
    "  filter(Attendance!= \"NA\" ) %>%  count()"
   ]
  },
  {
   "cell_type": "markdown",
   "id": "weird-looking",
   "metadata": {},
   "source": [
    "## 2.2.1 Dropna na by multiple cols"
   ]
  },
  {
   "cell_type": "code",
   "execution_count": null,
   "id": "pretty-franklin",
   "metadata": {
    "lines_to_next_cell": 2
   },
   "outputs": [],
   "source": [
    "df_renamed %>%\n",
    "  filter(Attendance!= \"NA\" & Age!=\"NA\") %>% count() "
   ]
  },
  {
   "cell_type": "code",
   "execution_count": null,
   "id": "excessive-cleanup",
   "metadata": {},
   "outputs": [],
   "source": [
    "df_renamed_dropna = df_renamed %>%\n",
    "  filter(Attendance!= \"NA\" & Age!=\"NA\")"
   ]
  },
  {
   "cell_type": "markdown",
   "id": "cardiac-renewal",
   "metadata": {},
   "source": [
    "### 2.2.1.1 Unique values--NA should now be removed\n"
   ]
  },
  {
   "cell_type": "code",
   "execution_count": null,
   "id": "moderate-prison",
   "metadata": {
    "lines_to_next_cell": 2
   },
   "outputs": [],
   "source": [
    "df_renamed_dropna%>% \n",
    "  select(Attendance) %>% \n",
    "  unique()"
   ]
  },
  {
   "cell_type": "markdown",
   "id": "impressed-america",
   "metadata": {},
   "source": [
    "# 3. Recode"
   ]
  },
  {
   "cell_type": "code",
   "execution_count": null,
   "id": "stone-shift",
   "metadata": {
    "lines_to_next_cell": 2
   },
   "outputs": [],
   "source": [
    "df_renamed_dropna%>% \n",
    "  select(Attendance, Gender, Age) %>% \n",
    "  summary()"
   ]
  },
  {
   "cell_type": "markdown",
   "id": "supposed-elder",
   "metadata": {},
   "source": [
    "# 3.1 Recode"
   ]
  },
  {
   "cell_type": "code",
   "execution_count": null,
   "id": "increased-combat",
   "metadata": {
    "lines_to_next_cell": 2
   },
   "outputs": [],
   "source": [
    "df_renamed_dropna = df_renamed_dropna %>% \n",
    "  mutate(\n",
    "    Attendance = recode(Attendance, \"3\"=0, \"1\"=1),\n",
    "    Gender = recode(Gender, \"3\"=0, \"1\"=1)\n",
    "         )"
   ]
  },
  {
   "cell_type": "markdown",
   "id": "graphic-national",
   "metadata": {},
   "source": [
    "# 3.2 Check recode"
   ]
  },
  {
   "cell_type": "code",
   "execution_count": null,
   "id": "coral-arbor",
   "metadata": {
    "lines_to_next_cell": 2
   },
   "outputs": [],
   "source": [
    "df_renamed_dropna%>% \n",
    "  select(Attendance) %>% \n",
    "  unique()"
   ]
  },
  {
   "cell_type": "markdown",
   "id": "annoying-mortality",
   "metadata": {},
   "source": [
    "## 3.3 Groupby and summarise (YOUR ANSWER)"
   ]
  },
  {
   "cell_type": "markdown",
   "id": "organizational-essex",
   "metadata": {},
   "source": [
    "### 3.3.1 Groupby and summarise to find answer"
   ]
  },
  {
   "cell_type": "code",
   "execution_count": null,
   "id": "progressive-permission",
   "metadata": {},
   "outputs": [],
   "source": [
    "df_renamed_dropna %>% \n",
    "filter(Age<6)%>% \n",
    "group_by(Age)%>% summarise(\n",
    "    attend =mean(Attendance))"
   ]
  },
  {
   "cell_type": "code",
   "execution_count": null,
   "id": "recorded-compound",
   "metadata": {},
   "outputs": [],
   "source": [
    "df_renamed_dropna %>% \n",
    "filter(Age<6)%>% \n",
    "group_by(Age)%>% summarise(\n",
    "    Total_students = n(),\n",
    "    Attend = sum(Attendance),\n",
    "    Attend_pct = (Attend/Total_students)*100,\n",
    "    Non_attend = Total_students-Attend,\n",
    "    Attend_2 = mean(Attendance)*100\n",
    "    \n",
    ")"
   ]
  },
  {
   "cell_type": "markdown",
   "id": "announced-hundred",
   "metadata": {},
   "source": [
    "### 3.3.2 Table function"
   ]
  },
  {
   "cell_type": "code",
   "execution_count": null,
   "id": "bacterial-mobile",
   "metadata": {},
   "outputs": [],
   "source": [
    "df_renamed_dropna%>% \n",
    "filter(Age<6)%>% \n",
    "  select(Age, Attendance) %>% \n",
    "  table() "
   ]
  },
  {
   "cell_type": "markdown",
   "id": "automatic-frank",
   "metadata": {},
   "source": [
    "# 4. Merge data"
   ]
  },
  {
   "cell_type": "markdown",
   "id": "insured-dollar",
   "metadata": {},
   "source": [
    "## 4.1 Add new data set"
   ]
  },
  {
   "cell_type": "code",
   "execution_count": null,
   "id": "forward-crowd",
   "metadata": {
    "lines_to_next_cell": 2
   },
   "outputs": [],
   "source": [
    "df_consum = read.dta('hh02dta_b1/i_cs.dta')\n",
    "df_consum %>% head(3)"
   ]
  },
  {
   "cell_type": "markdown",
   "id": "contained-porter",
   "metadata": {},
   "source": [
    "## 4.2 Rename column\n",
    "\n",
    "##### Data SETS MUST HAVE OVERLAPPING COLUMN WITH THE SAME DATA AND SAME NAME"
   ]
  },
  {
   "cell_type": "code",
   "execution_count": null,
   "id": "settled-collar",
   "metadata": {},
   "outputs": [],
   "source": [
    "df_consum %>% \n",
    "  rename(\"Household_ID\" = 'folio') %>%head(3)"
   ]
  },
  {
   "cell_type": "code",
   "execution_count": null,
   "id": "finite-superior",
   "metadata": {},
   "outputs": [],
   "source": [
    "df_consum = df_consum %>% \n",
    "  rename(\"Household_ID\" = 'folio') "
   ]
  },
  {
   "cell_type": "markdown",
   "id": "particular-malaysia",
   "metadata": {},
   "source": [
    "## 4.3 Merge data"
   ]
  },
  {
   "cell_type": "code",
   "execution_count": null,
   "id": "novel-spare",
   "metadata": {},
   "outputs": [],
   "source": [
    "df_merge = merge(df_consum , df_renamed_dropna, by='Household_ID')\n",
    "df_merge%>%head(3)"
   ]
  },
  {
   "cell_type": "markdown",
   "id": "ethical-latest",
   "metadata": {},
   "source": [
    "# 5. Graphing"
   ]
  },
  {
   "cell_type": "markdown",
   "id": "nuclear-mississippi",
   "metadata": {},
   "source": [
    "## 5.1 Data"
   ]
  },
  {
   "cell_type": "code",
   "execution_count": null,
   "id": "future-bristol",
   "metadata": {},
   "outputs": [],
   "source": [
    "df_renamed_dropna %>% \n",
    "filter(Age>3 & Age<8)%>% \n",
    "group_by(Age)%>% summarise(\n",
    "    Attend = mean(Attendance)*100)"
   ]
  },
  {
   "cell_type": "code",
   "execution_count": null,
   "id": "functioning-asset",
   "metadata": {},
   "outputs": [],
   "source": [
    "barplot_data = df_renamed_dropna %>% \n",
    "filter(Age>3 & Age<8)%>% \n",
    "group_by(Age)%>% summarise(\n",
    "    Attend = mean(Attendance)*100)"
   ]
  },
  {
   "cell_type": "markdown",
   "id": "paperback-acrylic",
   "metadata": {},
   "source": [
    "## 5.2 ggplot2"
   ]
  },
  {
   "cell_type": "code",
   "execution_count": null,
   "id": "authorized-sudan",
   "metadata": {},
   "outputs": [],
   "source": [
    "#install.packages('ggplot2')\n",
    "library(ggplot2)"
   ]
  },
  {
   "cell_type": "code",
   "execution_count": null,
   "id": "saving-practice",
   "metadata": {
    "lines_to_next_cell": 2
   },
   "outputs": [],
   "source": [
    "barplot_data%>% \n",
    "ggplot(aes(x= Age, y=Attend)) + geom_bar(stat=\"identity\") "
   ]
  },
  {
   "cell_type": "markdown",
   "id": "amazing-smith",
   "metadata": {},
   "source": [
    "## 5.3 Add colors, titles, etc"
   ]
  },
  {
   "cell_type": "code",
   "execution_count": null,
   "id": "complicated-negotiation",
   "metadata": {},
   "outputs": [],
   "source": [
    "barplot_data%>% \n",
    "ggplot(\n",
    "    aes(x= Age, y=Attend)\n",
    ") + geom_bar(stat=\"identity\", width=.5, fill='red',color='blue') +\n",
    "xlab('') + \n",
    "ylab('Count') + \n",
    "ggtitle('Look mom I can scatter plot') +\n",
    "theme(plot.title = element_text(hjust = 0.5)) +\n",
    "theme(axis.text.x=element_text(angle=45, hjust=1))"
   ]
  },
  {
   "cell_type": "code",
   "execution_count": null,
   "id": "measured-chancellor",
   "metadata": {},
   "outputs": [],
   "source": []
  }
 ],
 "metadata": {
  "jupytext": {
   "cell_metadata_filter": "-all",
   "notebook_metadata_filter": "-all",
   "text_representation": {
    "extension": ".R",
    "format_name": "light"
   }
  },
  "kernelspec": {
   "display_name": "R (system-wide)",
   "language": "R",
   "name": "ir"
  }
 },
 "nbformat": 4,
 "nbformat_minor": 5
}
