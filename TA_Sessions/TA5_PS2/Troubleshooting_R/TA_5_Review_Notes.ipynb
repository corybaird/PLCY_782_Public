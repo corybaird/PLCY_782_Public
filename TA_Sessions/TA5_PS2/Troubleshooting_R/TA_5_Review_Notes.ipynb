{
 "cells": [
  {
   "cell_type": "markdown",
   "id": "opponent-dutch",
   "metadata": {},
   "source": [
    "## A.1 Install packages"
   ]
  },
  {
   "cell_type": "code",
   "execution_count": 5,
   "id": "posted-holder",
   "metadata": {},
   "outputs": [],
   "source": [
    "#Step 1\n",
    "#install.packages('downloader')\n",
    "#install.packages('foreign')\n",
    "#install.packages('dplyr')\n",
    "#install.packages('ggplot2')"
   ]
  },
  {
   "cell_type": "code",
   "execution_count": 6,
   "id": "inside-dealing",
   "metadata": {},
   "outputs": [],
   "source": [
    "#Step 2\n",
    "library(foreign) #Imports dta files\n",
    "library(dplyr) #Data manipulation\n",
    "library(downloader) #Downloads files from the internet\n",
    "library(ggplot2)"
   ]
  },
  {
   "cell_type": "markdown",
   "id": "global-means",
   "metadata": {},
   "source": [
    "## A.2 Data set "
   ]
  },
  {
   "cell_type": "code",
   "execution_count": 8,
   "id": "ideal-water",
   "metadata": {
    "lines_to_next_cell": 2
   },
   "outputs": [
    {
     "data": {
      "text/html": [
       "<table>\n",
       "<thead><tr><th scope=col>folio</th><th scope=col>ls</th><th scope=col>secuencia</th><th scope=col>ls00</th><th scope=col>ls02_1</th><th scope=col>ls02_2</th><th scope=col>ls03_1</th><th scope=col>ls03_21</th><th scope=col>ls03_22</th><th scope=col>ls04</th><th scope=col>...</th><th scope=col>ls09</th><th scope=col>ls10</th><th scope=col>ls11</th><th scope=col>ls12</th><th scope=col>ls13_1</th><th scope=col>ls13_2</th><th scope=col>ls14</th><th scope=col>ls15_1</th><th scope=col>ls16</th><th scope=col>ls18</th></tr></thead>\n",
       "<tbody>\n",
       "\t<tr><td>1000 </td><td>1    </td><td>1    </td><td>1    </td><td>1    </td><td>37   </td><td>NA   </td><td>NA   </td><td>NA   </td><td>1    </td><td>...  </td><td>1    </td><td>5    </td><td> 2   </td><td>1    </td><td> 1   </td><td>32000</td><td>3    </td><td> 6   </td><td>3    </td><td>NA   </td></tr>\n",
       "\t<tr><td>1000 </td><td>2    </td><td>2    </td><td>2    </td><td>1    </td><td>35   </td><td>NA   </td><td>NA   </td><td>NA   </td><td>3    </td><td>...  </td><td>1    </td><td>5    </td><td> 1   </td><td>3    </td><td>NA   </td><td>   NA</td><td>1    </td><td>NA   </td><td>3    </td><td>NA   </td></tr>\n",
       "\t<tr><td>1000 </td><td>3    </td><td>3    </td><td>3    </td><td>1    </td><td>16   </td><td>NA   </td><td>NA   </td><td>NA   </td><td>3    </td><td>...  </td><td>1    </td><td>6    </td><td>NA   </td><td>3    </td><td>NA   </td><td>   NA</td><td>6    </td><td> 0   </td><td>1    </td><td> 2   </td></tr>\n",
       "</tbody>\n",
       "</table>\n"
      ],
      "text/latex": [
       "\\begin{tabular}{r|llllllllllllllllllllllll}\n",
       " folio & ls & secuencia & ls00 & ls02\\_1 & ls02\\_2 & ls03\\_1 & ls03\\_21 & ls03\\_22 & ls04 & ... & ls09 & ls10 & ls11 & ls12 & ls13\\_1 & ls13\\_2 & ls14 & ls15\\_1 & ls16 & ls18\\\\\n",
       "\\hline\n",
       "\t 1000  & 1     & 1     & 1     & 1     & 37    & NA    & NA    & NA    & 1     & ...   & 1     & 5     &  2    & 1     &  1    & 32000 & 3     &  6    & 3     & NA   \\\\\n",
       "\t 1000  & 2     & 2     & 2     & 1     & 35    & NA    & NA    & NA    & 3     & ...   & 1     & 5     &  1    & 3     & NA    &    NA & 1     & NA    & 3     & NA   \\\\\n",
       "\t 1000  & 3     & 3     & 3     & 1     & 16    & NA    & NA    & NA    & 3     & ...   & 1     & 6     & NA    & 3     & NA    &    NA & 6     &  0    & 1     &  2   \\\\\n",
       "\\end{tabular}\n"
      ],
      "text/markdown": [
       "\n",
       "| folio | ls | secuencia | ls00 | ls02_1 | ls02_2 | ls03_1 | ls03_21 | ls03_22 | ls04 | ... | ls09 | ls10 | ls11 | ls12 | ls13_1 | ls13_2 | ls14 | ls15_1 | ls16 | ls18 |\n",
       "|---|---|---|---|---|---|---|---|---|---|---|---|---|---|---|---|---|---|---|---|---|\n",
       "| 1000  | 1     | 1     | 1     | 1     | 37    | NA    | NA    | NA    | 1     | ...   | 1     | 5     |  2    | 1     |  1    | 32000 | 3     |  6    | 3     | NA    |\n",
       "| 1000  | 2     | 2     | 2     | 1     | 35    | NA    | NA    | NA    | 3     | ...   | 1     | 5     |  1    | 3     | NA    |    NA | 1     | NA    | 3     | NA    |\n",
       "| 1000  | 3     | 3     | 3     | 1     | 16    | NA    | NA    | NA    | 3     | ...   | 1     | 6     | NA    | 3     | NA    |    NA | 6     |  0    | 1     |  2    |\n",
       "\n"
      ],
      "text/plain": [
       "  folio ls secuencia ls00 ls02_1 ls02_2 ls03_1 ls03_21 ls03_22 ls04 ... ls09\n",
       "1 1000  1  1         1    1      37     NA     NA      NA      1    ... 1   \n",
       "2 1000  2  2         2    1      35     NA     NA      NA      3    ... 1   \n",
       "3 1000  3  3         3    1      16     NA     NA      NA      3    ... 1   \n",
       "  ls10 ls11 ls12 ls13_1 ls13_2 ls14 ls15_1 ls16 ls18\n",
       "1 5     2   1     1     32000  3     6     3    NA  \n",
       "2 5     1   3    NA        NA  1    NA     3    NA  \n",
       "3 6    NA   3    NA        NA  6     0     1     2  "
      ]
     },
     "metadata": {},
     "output_type": "display_data"
    }
   ],
   "source": [
    "#URL \n",
    "url = \"http://www.ennvih-mxfls.org/english/assets/hh02dta_bc.zip\"\n",
    "#File name\n",
    "file_name = \"mxfls.zip\"\n",
    "# \"Downloader\" library--function: download.file()\n",
    "download.file(url, file_name)\n",
    "unzip(\"mxfls.zip\")\n",
    "df = read.dta(\"hh02dta_bc/c_ls.dta\")\n",
    "df %>% head(3)"
   ]
  },
  {
   "cell_type": "markdown",
   "id": "cardiovascular-circus",
   "metadata": {},
   "source": [
    "## B.1 Problem: \"Could not find function “%>%”\""
   ]
  },
  {
   "cell_type": "code",
   "execution_count": 12,
   "id": "round-charger",
   "metadata": {},
   "outputs": [
    {
     "data": {
      "text/html": [
       "<table>\n",
       "<thead><tr><th scope=col>Household_ID</th><th scope=col>Individual_ID</th><th scope=col>secuencia</th><th scope=col>ls00</th><th scope=col>ls02_1</th><th scope=col>Age</th><th scope=col>ls03_1</th><th scope=col>ls03_21</th><th scope=col>ls03_22</th><th scope=col>Gender</th><th scope=col>...</th><th scope=col>ls09</th><th scope=col>ls10</th><th scope=col>ls11</th><th scope=col>ls12</th><th scope=col>ls13_1</th><th scope=col>ls13_2</th><th scope=col>ls14</th><th scope=col>ls15_1</th><th scope=col>Attendance</th><th scope=col>ls18</th></tr></thead>\n",
       "<tbody>\n",
       "\t<tr><td>1000 </td><td>1    </td><td>1    </td><td>1    </td><td>1    </td><td>37   </td><td>NA   </td><td>NA   </td><td>NA   </td><td>1    </td><td>...  </td><td>1    </td><td>5    </td><td> 2   </td><td>1    </td><td> 1   </td><td>32000</td><td>3    </td><td> 6   </td><td>3    </td><td>NA   </td></tr>\n",
       "\t<tr><td>1000 </td><td>2    </td><td>2    </td><td>2    </td><td>1    </td><td>35   </td><td>NA   </td><td>NA   </td><td>NA   </td><td>3    </td><td>...  </td><td>1    </td><td>5    </td><td> 1   </td><td>3    </td><td>NA   </td><td>   NA</td><td>1    </td><td>NA   </td><td>3    </td><td>NA   </td></tr>\n",
       "\t<tr><td>1000 </td><td>3    </td><td>3    </td><td>3    </td><td>1    </td><td>16   </td><td>NA   </td><td>NA   </td><td>NA   </td><td>3    </td><td>...  </td><td>1    </td><td>6    </td><td>NA   </td><td>3    </td><td>NA   </td><td>   NA</td><td>6    </td><td> 0   </td><td>1    </td><td> 2   </td></tr>\n",
       "</tbody>\n",
       "</table>\n"
      ],
      "text/latex": [
       "\\begin{tabular}{r|llllllllllllllllllllllll}\n",
       " Household\\_ID & Individual\\_ID & secuencia & ls00 & ls02\\_1 & Age & ls03\\_1 & ls03\\_21 & ls03\\_22 & Gender & ... & ls09 & ls10 & ls11 & ls12 & ls13\\_1 & ls13\\_2 & ls14 & ls15\\_1 & Attendance & ls18\\\\\n",
       "\\hline\n",
       "\t 1000  & 1     & 1     & 1     & 1     & 37    & NA    & NA    & NA    & 1     & ...   & 1     & 5     &  2    & 1     &  1    & 32000 & 3     &  6    & 3     & NA   \\\\\n",
       "\t 1000  & 2     & 2     & 2     & 1     & 35    & NA    & NA    & NA    & 3     & ...   & 1     & 5     &  1    & 3     & NA    &    NA & 1     & NA    & 3     & NA   \\\\\n",
       "\t 1000  & 3     & 3     & 3     & 1     & 16    & NA    & NA    & NA    & 3     & ...   & 1     & 6     & NA    & 3     & NA    &    NA & 6     &  0    & 1     &  2   \\\\\n",
       "\\end{tabular}\n"
      ],
      "text/markdown": [
       "\n",
       "| Household_ID | Individual_ID | secuencia | ls00 | ls02_1 | Age | ls03_1 | ls03_21 | ls03_22 | Gender | ... | ls09 | ls10 | ls11 | ls12 | ls13_1 | ls13_2 | ls14 | ls15_1 | Attendance | ls18 |\n",
       "|---|---|---|---|---|---|---|---|---|---|---|---|---|---|---|---|---|---|---|---|---|\n",
       "| 1000  | 1     | 1     | 1     | 1     | 37    | NA    | NA    | NA    | 1     | ...   | 1     | 5     |  2    | 1     |  1    | 32000 | 3     |  6    | 3     | NA    |\n",
       "| 1000  | 2     | 2     | 2     | 1     | 35    | NA    | NA    | NA    | 3     | ...   | 1     | 5     |  1    | 3     | NA    |    NA | 1     | NA    | 3     | NA    |\n",
       "| 1000  | 3     | 3     | 3     | 1     | 16    | NA    | NA    | NA    | 3     | ...   | 1     | 6     | NA    | 3     | NA    |    NA | 6     |  0    | 1     |  2    |\n",
       "\n"
      ],
      "text/plain": [
       "  Household_ID Individual_ID secuencia ls00 ls02_1 Age ls03_1 ls03_21 ls03_22\n",
       "1 1000         1             1         1    1      37  NA     NA      NA     \n",
       "2 1000         2             2         2    1      35  NA     NA      NA     \n",
       "3 1000         3             3         3    1      16  NA     NA      NA     \n",
       "  Gender ... ls09 ls10 ls11 ls12 ls13_1 ls13_2 ls14 ls15_1 Attendance ls18\n",
       "1 1      ... 1    5     2   1     1     32000  3     6     3          NA  \n",
       "2 3      ... 1    5     1   3    NA        NA  1    NA     3          NA  \n",
       "3 3      ... 1    6    NA   3    NA        NA  6     0     1           2  "
      ]
     },
     "metadata": {},
     "output_type": "display_data"
    }
   ],
   "source": [
    "df_renamed = df %>%  \n",
    "  rename(\"Age\"= \"ls02_2\",\n",
    "         \"Attendance\" = \"ls16\",\n",
    "         \"Gender\" = \"ls04\",\n",
    "         \"Household_ID\" = 'folio',\n",
    "         \"Individual_ID\"= 'ls')\n",
    "\n",
    "df_renamed %>% head(3)"
   ]
  },
  {
   "cell_type": "markdown",
   "id": "retained-andorra",
   "metadata": {},
   "source": [
    "## B.2 Recode"
   ]
  },
  {
   "cell_type": "code",
   "execution_count": 13,
   "id": "aging-fields",
   "metadata": {
    "lines_to_next_cell": 2
   },
   "outputs": [
    {
     "data": {
      "text/html": [
       "<table>\n",
       "<thead><tr><th></th><th scope=col>Attendance</th></tr></thead>\n",
       "<tbody>\n",
       "\t<tr><th scope=row>1</th><td> 0</td></tr>\n",
       "\t<tr><th scope=row>3</th><td> 1</td></tr>\n",
       "\t<tr><th scope=row>22</th><td>NA</td></tr>\n",
       "</tbody>\n",
       "</table>\n"
      ],
      "text/latex": [
       "\\begin{tabular}{r|l}\n",
       "  & Attendance\\\\\n",
       "\\hline\n",
       "\t1 &  0\\\\\n",
       "\t3 &  1\\\\\n",
       "\t22 & NA\\\\\n",
       "\\end{tabular}\n"
      ],
      "text/markdown": [
       "\n",
       "| <!--/--> | Attendance |\n",
       "|---|---|\n",
       "| 1 |  0 |\n",
       "| 3 |  1 |\n",
       "| 22 | NA |\n",
       "\n"
      ],
      "text/plain": [
       "   Attendance\n",
       "1   0        \n",
       "3   1        \n",
       "22 NA        "
      ]
     },
     "metadata": {},
     "output_type": "display_data"
    }
   ],
   "source": [
    "df_renamed = df_renamed  %>% \n",
    "  mutate(\n",
    "    Attendance = recode(Attendance, \"3\"=0, \"1\"=1),\n",
    "    Gender = recode(Gender, \"3\"=0, \"1\"=1)\n",
    "  )\n",
    "\n",
    "df_renamed %>% select(Attendance) %>% unique()"
   ]
  },
  {
   "cell_type": "markdown",
   "id": "banned-discrimination",
   "metadata": {},
   "source": [
    "# 1. Troubleshooting in R"
   ]
  },
  {
   "cell_type": "markdown",
   "id": "restricted-brisbane",
   "metadata": {},
   "source": [
    "## 1.1 PROBLEM: Column 'NAME' is not found\n"
   ]
  },
  {
   "cell_type": "code",
   "execution_count": 14,
   "id": "prescribed-cardiff",
   "metadata": {
    "lines_to_next_cell": 2
   },
   "outputs": [
    {
     "ename": "ERROR",
     "evalue": "Error: Column `folio` is unknown\n",
     "output_type": "error",
     "traceback": [
      "Error: Column `folio` is unknown\nTraceback:\n",
      "1. df_renamed %>% group_by(folio) %>% count() %>% summary()",
      "2. withVisible(eval(quote(`_fseq`(`_lhs`)), env, env))",
      "3. eval(quote(`_fseq`(`_lhs`)), env, env)",
      "4. eval(quote(`_fseq`(`_lhs`)), env, env)",
      "5. `_fseq`(`_lhs`)",
      "6. freduce(value, `_function_list`)",
      "7. function_list[[i]](value)",
      "8. group_by(., folio)",
      "9. group_by.data.frame(., folio)",
      "10. grouped_df(groups$data, groups$group_names, .drop)",
      "11. grouped_df_impl(data, unname(vars), drop)"
     ]
    }
   ],
   "source": [
    "#Method 1\n",
    "df_renamed %>% \n",
    "  group_by(folio) %>% #Groupby house\n",
    "  count() %>% #Counts each member in each house\n",
    "  summary() #Shows summary stats"
   ]
  },
  {
   "cell_type": "code",
   "execution_count": null,
   "id": "verified-ranking",
   "metadata": {
    "lines_to_next_cell": 2
   },
   "outputs": [],
   "source": [
    "#Method 2\n",
    "df_renamed %>% \n",
    "  group_by(Household_ID) %>% #Groupby house\n",
    "  summarise(members = n()) %>% \n",
    "  mutate(members_mean = mean(members),\n",
    "         members_sd = sd(members))"
   ]
  },
  {
   "cell_type": "code",
   "execution_count": null,
   "id": "electrical-tissue",
   "metadata": {},
   "outputs": [],
   "source": [
    "#Method 3\n",
    "df_renamed %>% \n",
    "  group_by(Household_ID) %>% #Groupby house\n",
    "  count() %>% #counts\n",
    "  pull(n) %>% #pull is like select. selects n column\n",
    "  sd() #or use mean() instead of sd"
   ]
  },
  {
   "cell_type": "markdown",
   "id": "jewish-garden",
   "metadata": {},
   "source": [
    "## 1.2 PROBLEM: \"Problem with function()\"\n"
   ]
  },
  {
   "cell_type": "code",
   "execution_count": 15,
   "id": "minus-component",
   "metadata": {
    "lines_to_next_cell": 2
   },
   "outputs": [
    {
     "ename": "ERROR",
     "evalue": "`Age` (`Age = 18`) must not be named, do you need `==`?",
     "output_type": "error",
     "traceback": [
      "`Age` (`Age = 18`) must not be named, do you need `==`?Traceback:\n",
      "1. df_renamed %>% filter(Age = 18) %>% group_by(Household_ID) %>% \n .     count() %>% summary()",
      "2. withVisible(eval(quote(`_fseq`(`_lhs`)), env, env))",
      "3. eval(quote(`_fseq`(`_lhs`)), env, env)",
      "4. eval(quote(`_fseq`(`_lhs`)), env, env)",
      "5. `_fseq`(`_lhs`)",
      "6. freduce(value, `_function_list`)",
      "7. function_list[[i]](value)",
      "8. filter(., Age = 18)",
      "9. filter.data.frame(., Age = 18)",
      "10. as.data.frame(filter(tbl_df(.data), ..., .preserve = .preserve))",
      "11. filter(tbl_df(.data), ..., .preserve = .preserve)",
      "12. filter.tbl_df(tbl_df(.data), ..., .preserve = .preserve)",
      "13. bad_eq_ops(bad, \"must not be named, do you need `==`?\")",
      "14. glubort(fmt_wrong_eq_ops(named_calls), ..., .envir = .envir)",
      "15. .abort(text)"
     ]
    }
   ],
   "source": [
    "# Method 1 \n",
    "df_renamed %>% \n",
    "  filter(Age=18) %>% \n",
    "  group_by(Household_ID) %>% \n",
    "  count() %>% \n",
    "  summary()"
   ]
  },
  {
   "cell_type": "code",
   "execution_count": null,
   "id": "sensitive-genealogy",
   "metadata": {
    "lines_to_next_cell": 2
   },
   "outputs": [],
   "source": [
    "df_renamed %>% \n",
    "  filter(Age<18) %>% \n",
    "  group_by(Household_ID) %>% \n",
    "  count() %>% \n",
    "  pull(n) %>% \n",
    "  sd()"
   ]
  },
  {
   "cell_type": "markdown",
   "id": "qualified-owner",
   "metadata": {},
   "source": [
    "## 1.3 PROBLEM: object 'NAME OF DATA' not found\n"
   ]
  },
  {
   "cell_type": "code",
   "execution_count": 17,
   "id": "removed-affiliate",
   "metadata": {},
   "outputs": [
    {
     "data": {
      "text/html": [
       "<table>\n",
       "<thead><tr><th scope=col>folio</th><th scope=col>cv01_1</th><th scope=col>cv02_1</th><th scope=col>cv03_1</th><th scope=col>cv03_2</th><th scope=col>cv04_1</th><th scope=col>cv04_2</th><th scope=col>cv05</th><th scope=col>cv06</th><th scope=col>cv07</th><th scope=col>...</th><th scope=col>cv19_1e</th><th scope=col>cv19_1f</th><th scope=col>cv19_1g</th><th scope=col>cv19_1h</th><th scope=col>cv20_1a</th><th scope=col>cv20_1b</th><th scope=col>cv20_1c</th><th scope=col>cv20_1d</th><th scope=col>cv20_1e</th><th scope=col>cv20_1f</th></tr></thead>\n",
       "<tbody>\n",
       "\t<tr><td>1000</td><td>3   </td><td>4   </td><td>NA  </td><td>NA  </td><td>NA  </td><td>NA  </td><td>1   </td><td>3   </td><td>2   </td><td>... </td><td>NA  </td><td>NA  </td><td>NA  </td><td>NA  </td><td>1   </td><td>NA  </td><td>NA  </td><td> 4  </td><td>NA  </td><td>NA  </td></tr>\n",
       "\t<tr><td>2000</td><td>3   </td><td>2   </td><td>NA  </td><td>NA  </td><td>NA  </td><td>NA  </td><td>1   </td><td>3   </td><td>2   </td><td>... </td><td>NA  </td><td>NA  </td><td>NA  </td><td>NA  </td><td>1   </td><td>NA  </td><td>NA  </td><td> 4  </td><td>NA  </td><td>NA  </td></tr>\n",
       "\t<tr><td>3000</td><td>3   </td><td>2   </td><td>NA  </td><td>NA  </td><td>NA  </td><td>NA  </td><td>1   </td><td>3   </td><td>1   </td><td>... </td><td>NA  </td><td>NA  </td><td>NA  </td><td>NA  </td><td>1   </td><td> 2  </td><td>NA  </td><td>NA  </td><td>NA  </td><td>NA  </td></tr>\n",
       "</tbody>\n",
       "</table>\n"
      ],
      "text/latex": [
       "\\begin{tabular}{r|lllllllllllllllllllllllllllllllllllllllllllllllllll}\n",
       " folio & cv01\\_1 & cv02\\_1 & cv03\\_1 & cv03\\_2 & cv04\\_1 & cv04\\_2 & cv05 & cv06 & cv07 & ... & cv19\\_1e & cv19\\_1f & cv19\\_1g & cv19\\_1h & cv20\\_1a & cv20\\_1b & cv20\\_1c & cv20\\_1d & cv20\\_1e & cv20\\_1f\\\\\n",
       "\\hline\n",
       "\t 1000 & 3    & 4    & NA   & NA   & NA   & NA   & 1    & 3    & 2    & ...  & NA   & NA   & NA   & NA   & 1    & NA   & NA   &  4   & NA   & NA  \\\\\n",
       "\t 2000 & 3    & 2    & NA   & NA   & NA   & NA   & 1    & 3    & 2    & ...  & NA   & NA   & NA   & NA   & 1    & NA   & NA   &  4   & NA   & NA  \\\\\n",
       "\t 3000 & 3    & 2    & NA   & NA   & NA   & NA   & 1    & 3    & 1    & ...  & NA   & NA   & NA   & NA   & 1    &  2   & NA   & NA   & NA   & NA  \\\\\n",
       "\\end{tabular}\n"
      ],
      "text/markdown": [
       "\n",
       "| folio | cv01_1 | cv02_1 | cv03_1 | cv03_2 | cv04_1 | cv04_2 | cv05 | cv06 | cv07 | ... | cv19_1e | cv19_1f | cv19_1g | cv19_1h | cv20_1a | cv20_1b | cv20_1c | cv20_1d | cv20_1e | cv20_1f |\n",
       "|---|---|---|---|---|---|---|---|---|---|---|---|---|---|---|---|---|---|---|---|---|\n",
       "| 1000 | 3    | 4    | NA   | NA   | NA   | NA   | 1    | 3    | 2    | ...  | NA   | NA   | NA   | NA   | 1    | NA   | NA   |  4   | NA   | NA   |\n",
       "| 2000 | 3    | 2    | NA   | NA   | NA   | NA   | 1    | 3    | 2    | ...  | NA   | NA   | NA   | NA   | 1    | NA   | NA   |  4   | NA   | NA   |\n",
       "| 3000 | 3    | 2    | NA   | NA   | NA   | NA   | 1    | 3    | 1    | ...  | NA   | NA   | NA   | NA   | 1    |  2   | NA   | NA   | NA   | NA   |\n",
       "\n"
      ],
      "text/plain": [
       "  folio cv01_1 cv02_1 cv03_1 cv03_2 cv04_1 cv04_2 cv05 cv06 cv07 ... cv19_1e\n",
       "1 1000  3      4      NA     NA     NA     NA     1    3    2    ... NA     \n",
       "2 2000  3      2      NA     NA     NA     NA     1    3    2    ... NA     \n",
       "3 3000  3      2      NA     NA     NA     NA     1    3    1    ... NA     \n",
       "  cv19_1f cv19_1g cv19_1h cv20_1a cv20_1b cv20_1c cv20_1d cv20_1e cv20_1f\n",
       "1 NA      NA      NA      1       NA      NA       4      NA      NA     \n",
       "2 NA      NA      NA      1       NA      NA       4      NA      NA     \n",
       "3 NA      NA      NA      1        2      NA      NA      NA      NA     "
      ]
     },
     "metadata": {},
     "output_type": "display_data"
    }
   ],
   "source": [
    "df_dwelling = read.dta('hh02dta_bc/c_cv.dta')\n",
    "df_dwelling %>% head(3)"
   ]
  },
  {
   "cell_type": "markdown",
   "id": "fallen-shirt",
   "metadata": {},
   "source": [
    "### 1.3.1 Solution: Method 1"
   ]
  },
  {
   "cell_type": "code",
   "execution_count": 18,
   "id": "faced-drama",
   "metadata": {
    "lines_to_next_cell": 2
   },
   "outputs": [
    {
     "ename": "ERROR",
     "evalue": "Error: object 'cv16' not found\n",
     "output_type": "error",
     "traceback": [
      "Error: object 'cv16' not found\nTraceback:\n",
      "1. df_renamed %>% mutate(toliet_dummy = as.numeric(cv16 == 1)) %>% \n .     filter(toliet_dummy != \"NA\") %>% summarise(mean_toliet = mean(toliet_dummy), \n .     sd_toliet = sd(toliet_dummy))",
      "2. withVisible(eval(quote(`_fseq`(`_lhs`)), env, env))",
      "3. eval(quote(`_fseq`(`_lhs`)), env, env)",
      "4. eval(quote(`_fseq`(`_lhs`)), env, env)",
      "5. `_fseq`(`_lhs`)",
      "6. freduce(value, `_function_list`)",
      "7. function_list[[i]](value)",
      "8. mutate(., toliet_dummy = as.numeric(cv16 == 1))",
      "9. mutate.data.frame(., toliet_dummy = as.numeric(cv16 == 1))",
      "10. as.data.frame(mutate(tbl_df(.data), ...))",
      "11. mutate(tbl_df(.data), ...)",
      "12. mutate.tbl_df(tbl_df(.data), ...)",
      "13. mutate_impl(.data, dots, caller_env())"
     ]
    }
   ],
   "source": [
    "df_renamed  %>% \n",
    "  mutate(toliet_dummy = as.numeric(cv16==1)) %>% \n",
    "  filter(toliet_dummy!='NA') %>% \n",
    "  summarise(\n",
    "    mean_toliet = mean(toliet_dummy),\n",
    "    sd_toliet = sd(toliet_dummy)\n",
    "  )"
   ]
  },
  {
   "cell_type": "markdown",
   "id": "sustainable-independence",
   "metadata": {},
   "source": [
    "# 1.4 Problem: incorrect spacing, pipes, etc"
   ]
  },
  {
   "cell_type": "markdown",
   "id": "horizontal-listing",
   "metadata": {},
   "source": [
    "## 1.4.1 Explore data"
   ]
  },
  {
   "cell_type": "code",
   "execution_count": 20,
   "id": "amazing-august",
   "metadata": {
    "lines_to_next_cell": 2
   },
   "outputs": [
    {
     "ename": "ERROR",
     "evalue": "Error in parse(text = x, srcfile = src): <text>:5:0: unexpected end of input\n3:   unique() %>% \n4:   \n  ^\n",
     "output_type": "error",
     "traceback": [
      "Error in parse(text = x, srcfile = src): <text>:5:0: unexpected end of input\n3:   unique() %>% \n4:   \n  ^\nTraceback:\n"
     ]
    }
   ],
   "source": [
    "df_dwelling %>% \n",
    "  select(cv07) %>% \n",
    "  unique() %>% \n",
    "  "
   ]
  },
  {
   "cell_type": "markdown",
   "id": "therapeutic-analysis",
   "metadata": {},
   "source": [
    "  ### 1.4.2 Answer\n"
   ]
  },
  {
   "cell_type": "code",
   "execution_count": 21,
   "id": "executive-inspiration",
   "metadata": {},
   "outputs": [
    {
     "data": {
      "text/html": [
       "<table>\n",
       "<thead><tr><th scope=col>mean(no_sleeping_dummy) * 100</th><th scope=col>sd(no_sleeping_dummy) * 100</th></tr></thead>\n",
       "<tbody>\n",
       "\t<tr><td>0.01184834</td><td>1.088501  </td></tr>\n",
       "</tbody>\n",
       "</table>\n"
      ],
      "text/latex": [
       "\\begin{tabular}{r|ll}\n",
       " mean(no\\_sleeping\\_dummy) * 100 & sd(no\\_sleeping\\_dummy) * 100\\\\\n",
       "\\hline\n",
       "\t 0.01184834 & 1.088501  \\\\\n",
       "\\end{tabular}\n"
      ],
      "text/markdown": [
       "\n",
       "| mean(no_sleeping_dummy) * 100 | sd(no_sleeping_dummy) * 100 |\n",
       "|---|---|\n",
       "| 0.01184834 | 1.088501   |\n",
       "\n"
      ],
      "text/plain": [
       "  mean(no_sleeping_dummy) * 100 sd(no_sleeping_dummy) * 100\n",
       "1 0.01184834                    1.088501                   "
      ]
     },
     "metadata": {},
     "output_type": "display_data"
    }
   ],
   "source": [
    "df_dwelling %>% \n",
    "  select(cv07) %>% \n",
    "  mutate(no_sleeping_dummy = as.numeric(cv07==0)) %>% \n",
    "  summarise(\n",
    "    mean(no_sleeping_dummy)*100,\n",
    "    sd(no_sleeping_dummy)*100\n",
    "  )"
   ]
  },
  {
   "cell_type": "markdown",
   "id": "numeric-active",
   "metadata": {},
   "source": [
    "# 1.5 Problem: break down function into pieces"
   ]
  },
  {
   "cell_type": "markdown",
   "id": "advised-insider",
   "metadata": {},
   "source": [
    "## 1.5.1 Explore data"
   ]
  },
  {
   "cell_type": "code",
   "execution_count": 22,
   "id": "empty-document",
   "metadata": {
    "lines_to_next_cell": 2
   },
   "outputs": [
    {
     "data": {
      "text/html": [
       "<strong>1:</strong> 2531"
      ],
      "text/latex": [
       "\\textbf{1:} 2531"
      ],
      "text/markdown": [
       "**1:** 2531"
      ],
      "text/plain": [
       "   1 \n",
       "2531 "
      ]
     },
     "metadata": {},
     "output_type": "display_data"
    }
   ],
   "source": [
    "df_dwelling %>% \n",
    "  select(cv20_1a) %>% \n",
    "  table %>% \n",
    "  sort(decreasing = TRUE)"
   ]
  },
  {
   "cell_type": "markdown",
   "id": "veterinary-behavior",
   "metadata": {},
   "source": [
    "### 1.5.2 Method 1: replace function"
   ]
  },
  {
   "cell_type": "code",
   "execution_count": 23,
   "id": "extensive-flavor",
   "metadata": {
    "lines_to_next_cell": 2
   },
   "outputs": [
    {
     "ename": "ERROR",
     "evalue": "Error in mean(firewoo_dummy): object 'firewoo_dummy' not found\n",
     "output_type": "error",
     "traceback": [
      "Error in mean(firewoo_dummy): object 'firewoo_dummy' not found\nTraceback:\n",
      "1. df_dwelling %>% mutate(firewood_dummy = replace(cv20_1a, is.na(cv20_1a), \n .     0)) %>% summarise(mean(firewoo_dummy), sd(firewood_dummy))",
      "2. withVisible(eval(quote(`_fseq`(`_lhs`)), env, env))",
      "3. eval(quote(`_fseq`(`_lhs`)), env, env)",
      "4. eval(quote(`_fseq`(`_lhs`)), env, env)",
      "5. `_fseq`(`_lhs`)",
      "6. freduce(value, `_function_list`)",
      "7. withVisible(function_list[[k]](value))",
      "8. function_list[[k]](value)",
      "9. summarise(., mean(firewoo_dummy), sd(firewood_dummy))",
      "10. summarise.data.frame(., mean(firewoo_dummy), sd(firewood_dummy))",
      "11. as.data.frame(summarise(tbl_df(.data), ...))",
      "12. summarise(tbl_df(.data), ...)",
      "13. summarise.tbl_df(tbl_df(.data), ...)",
      "14. summarise_impl(.data, dots, environment(), caller_env())",
      "15. mean(firewoo_dummy)"
     ]
    }
   ],
   "source": [
    "df_dwelling %>% \n",
    "  mutate(\n",
    "    firewood_dummy = replace(cv20_1a, is.na(cv20_1a), 0)\n",
    "  ) %>% \n",
    "  summarise(\n",
    "    mean(firewoo_dummy),\n",
    "    sd(firewood_dummy)\n",
    "  )"
   ]
  },
  {
   "cell_type": "markdown",
   "id": "registered-exemption",
   "metadata": {},
   "source": [
    "## 1.5.3 Method 2: case_when"
   ]
  },
  {
   "cell_type": "code",
   "execution_count": 24,
   "id": "controversial-maldives",
   "metadata": {},
   "outputs": [
    {
     "ename": "ERROR",
     "evalue": "Error in parse(text = x, srcfile = src): <text>:5:5: unexpected symbol\n4:     mean(firewood_dummy)\n5:     sd\n       ^\n",
     "output_type": "error",
     "traceback": [
      "Error in parse(text = x, srcfile = src): <text>:5:5: unexpected symbol\n4:     mean(firewood_dummy)\n5:     sd\n       ^\nTraceback:\n"
     ]
    }
   ],
   "source": [
    "df_dwelling %>% \n",
    "  mutate(firewood_dummy = case_when(cv20_1a==1~1, TRUE~0)) %>% \n",
    "  summarise(\n",
    "    mean(firewood_dummy)\n",
    "    sd(firewood_dummy)\n",
    "  )"
   ]
  },
  {
   "cell_type": "markdown",
   "id": "liable-happiness",
   "metadata": {},
   "source": [
    "# 2.  Problem: no NA filter\n",
    "# 2.1 average age"
   ]
  },
  {
   "cell_type": "code",
   "execution_count": 26,
   "id": "governing-swift",
   "metadata": {},
   "outputs": [],
   "source": [
    "# Filter out non head of house\n",
    "df_head = df_renamed %>% \n",
    "  filter(ls05_1==1)"
   ]
  },
  {
   "cell_type": "code",
   "execution_count": 27,
   "id": "unlimited-claim",
   "metadata": {
    "lines_to_next_cell": 2
   },
   "outputs": [
    {
     "data": {
      "text/html": [
       "<table>\n",
       "<thead><tr><th scope=col>mean(Age)</th><th scope=col>sd(Age)</th></tr></thead>\n",
       "<tbody>\n",
       "\t<tr><td>NA</td><td>NA</td></tr>\n",
       "</tbody>\n",
       "</table>\n"
      ],
      "text/latex": [
       "\\begin{tabular}{r|ll}\n",
       " mean(Age) & sd(Age)\\\\\n",
       "\\hline\n",
       "\t NA & NA\\\\\n",
       "\\end{tabular}\n"
      ],
      "text/markdown": [
       "\n",
       "| mean(Age) | sd(Age) |\n",
       "|---|---|\n",
       "| NA | NA |\n",
       "\n"
      ],
      "text/plain": [
       "  mean(Age) sd(Age)\n",
       "1 NA        NA     "
      ]
     },
     "metadata": {},
     "output_type": "display_data"
    }
   ],
   "source": [
    "# Hint: filter out na summarise\n",
    "df_head %>% \n",
    "  #filter(Age!= \"NA\") %>% \n",
    "  summarise(\n",
    "    mean(Age),\n",
    "    sd(Age)\n",
    "  )"
   ]
  },
  {
   "cell_type": "markdown",
   "id": "honest-german",
   "metadata": {},
   "source": [
    "# 2.2 Problem: Missing pipe operator"
   ]
  },
  {
   "cell_type": "code",
   "execution_count": null,
   "id": "collect-requirement",
   "metadata": {},
   "outputs": [],
   "source": [
    "df_head %>% \n",
    "  filter(Gender!= \"NA\") \n",
    "summarise(\n",
    "  mean(Gender),\n",
    "  sd(Gender)\n",
    ")"
   ]
  },
  {
   "cell_type": "markdown",
   "id": "affiliated-leone",
   "metadata": {},
   "source": [
    "## Omit 2.3 & 2.4"
   ]
  },
  {
   "cell_type": "markdown",
   "id": "imperial-compound",
   "metadata": {},
   "source": [
    "# 3. Problem solving: Breakdown function"
   ]
  },
  {
   "cell_type": "code",
   "execution_count": 31,
   "id": "radical-correspondence",
   "metadata": {
    "lines_to_next_cell": 2
   },
   "outputs": [],
   "source": [
    "df_ages = df_renamed%>% \n",
    "  filter(Age>5 & Age<19)"
   ]
  },
  {
   "cell_type": "code",
   "execution_count": 32,
   "id": "handled-congo",
   "metadata": {},
   "outputs": [
    {
     "data": {
      "text/html": [
       "<table>\n",
       "<thead><tr><th scope=col>Household_ID</th><th scope=col>Individual_ID</th><th scope=col>secuencia</th><th scope=col>ls00</th><th scope=col>ls02_1</th><th scope=col>Age</th><th scope=col>ls03_1</th><th scope=col>ls03_21</th><th scope=col>ls03_22</th><th scope=col>Gender</th><th scope=col>...</th><th scope=col>ls09</th><th scope=col>ls10</th><th scope=col>ls11</th><th scope=col>ls12</th><th scope=col>ls13_1</th><th scope=col>ls13_2</th><th scope=col>ls14</th><th scope=col>ls15_1</th><th scope=col>Attendance</th><th scope=col>ls18</th></tr></thead>\n",
       "<tbody>\n",
       "\t<tr><td>1000</td><td>3   </td><td>3   </td><td>3   </td><td>1   </td><td>16  </td><td>NA  </td><td>NA  </td><td>NA  </td><td>0   </td><td>... </td><td>1   </td><td> 6  </td><td>NA  </td><td>3   </td><td>NA  </td><td>NA  </td><td>6   </td><td>0   </td><td>1   </td><td>2   </td></tr>\n",
       "\t<tr><td>1000</td><td>4   </td><td>4   </td><td>4   </td><td>1   </td><td>11  </td><td>NA  </td><td>NA  </td><td>NA  </td><td>1   </td><td>... </td><td>1   </td><td>NA  </td><td>NA  </td><td>3   </td><td>NA  </td><td>NA  </td><td>3   </td><td>4   </td><td>1   </td><td>2   </td></tr>\n",
       "</tbody>\n",
       "</table>\n"
      ],
      "text/latex": [
       "\\begin{tabular}{r|llllllllllllllllllllllll}\n",
       " Household\\_ID & Individual\\_ID & secuencia & ls00 & ls02\\_1 & Age & ls03\\_1 & ls03\\_21 & ls03\\_22 & Gender & ... & ls09 & ls10 & ls11 & ls12 & ls13\\_1 & ls13\\_2 & ls14 & ls15\\_1 & Attendance & ls18\\\\\n",
       "\\hline\n",
       "\t 1000 & 3    & 3    & 3    & 1    & 16   & NA   & NA   & NA   & 0    & ...  & 1    &  6   & NA   & 3    & NA   & NA   & 6    & 0    & 1    & 2   \\\\\n",
       "\t 1000 & 4    & 4    & 4    & 1    & 11   & NA   & NA   & NA   & 1    & ...  & 1    & NA   & NA   & 3    & NA   & NA   & 3    & 4    & 1    & 2   \\\\\n",
       "\\end{tabular}\n"
      ],
      "text/markdown": [
       "\n",
       "| Household_ID | Individual_ID | secuencia | ls00 | ls02_1 | Age | ls03_1 | ls03_21 | ls03_22 | Gender | ... | ls09 | ls10 | ls11 | ls12 | ls13_1 | ls13_2 | ls14 | ls15_1 | Attendance | ls18 |\n",
       "|---|---|---|---|---|---|---|---|---|---|---|---|---|---|---|---|---|---|---|---|---|\n",
       "| 1000 | 3    | 3    | 3    | 1    | 16   | NA   | NA   | NA   | 0    | ...  | 1    |  6   | NA   | 3    | NA   | NA   | 6    | 0    | 1    | 2    |\n",
       "| 1000 | 4    | 4    | 4    | 1    | 11   | NA   | NA   | NA   | 1    | ...  | 1    | NA   | NA   | 3    | NA   | NA   | 3    | 4    | 1    | 2    |\n",
       "\n"
      ],
      "text/plain": [
       "  Household_ID Individual_ID secuencia ls00 ls02_1 Age ls03_1 ls03_21 ls03_22\n",
       "1 1000         3             3         3    1      16  NA     NA      NA     \n",
       "2 1000         4             4         4    1      11  NA     NA      NA     \n",
       "  Gender ... ls09 ls10 ls11 ls12 ls13_1 ls13_2 ls14 ls15_1 Attendance ls18\n",
       "1 0      ... 1     6   NA   3    NA     NA     6    0      1          2   \n",
       "2 1      ... 1    NA   NA   3    NA     NA     3    4      1          2   "
      ]
     },
     "metadata": {},
     "output_type": "display_data"
    }
   ],
   "source": [
    "df_ages %>% \n",
    "  filter(Attendance!=\"NA\")  %>% head(2)"
   ]
  },
  {
   "cell_type": "code",
   "execution_count": null,
   "id": "together-canyon",
   "metadata": {},
   "outputs": [],
   "source": [
    "%>% \n",
    "  group_by(Age) %>% \n",
    "  summarise(\n",
    "    Avg_attend = mean(Attendance)\n",
    "  ) %>% ggplot(aes(x=Age, y= Avg_attend)) + \n",
    "  geom_bar(stat=\"identity\") + \n",
    "  xlab('Attendance (%)') + \n",
    "  ylab('Age') "
   ]
  },
  {
   "cell_type": "markdown",
   "id": "twenty-cowboy",
   "metadata": {},
   "source": [
    "## 3.1.2 Omitted\n"
   ]
  },
  {
   "cell_type": "markdown",
   "id": "everyday-static",
   "metadata": {},
   "source": [
    "# 3.2 Omitted"
   ]
  },
  {
   "cell_type": "markdown",
   "id": "frequent-finland",
   "metadata": {},
   "source": [
    "# 4. Problem: Too much code!"
   ]
  },
  {
   "cell_type": "markdown",
   "id": "radio-mounting",
   "metadata": {},
   "source": [
    "## 4.1 My solution\n"
   ]
  },
  {
   "cell_type": "code",
   "execution_count": null,
   "id": "mechanical-vocabulary",
   "metadata": {
    "lines_to_next_cell": 2
   },
   "outputs": [],
   "source": [
    "total_houses = df_renamed %>% select(Household_ID) %>% unique() %>% nrow()\n",
    "df_renamed %>% \n",
    "  mutate(\n",
    "    house_head = as.numeric(ls05_1==1), #dummy\n",
    "    house_spouse =  as.numeric(ls05_1==2), #dummy\n",
    "    house_child =  as.numeric(ls05_1==3), #dummy\n",
    "    house_other_resident = as.numeric(ls05_1!=3 & ls05_1!=2 & ls05_1!=1) #dummy==1 for all individuals not parents, spouse or child\n",
    "  ) %>%  \n",
    "  group_by(Household_ID) %>% #groupby house\n",
    "  select(house_head, house_spouse,house_child,house_other_resident) %>%  #select created dummies\n",
    "  summarise_each(funs(sum)) %>% #sum dummy columns\n",
    "  filter(house_head==1 #house hold head\n",
    "         & house_spouse==1 #spouse\n",
    "         & house_child>0 #at least one child\n",
    "         & house_other_resident!=0 #no other types of residents\n",
    "  ) %>% \n",
    "  count() / total_houses #count of the filter is divided by total # of houses"
   ]
  },
  {
   "cell_type": "markdown",
   "id": "stunning-cameroon",
   "metadata": {},
   "source": [
    "## 4.2 A brilliant students solution"
   ]
  },
  {
   "cell_type": "code",
   "execution_count": null,
   "id": "engaged-catholic",
   "metadata": {},
   "outputs": [],
   "source": [
    "df_renamed%>% \n",
    "  rename('relatheadhh'='ls05_1') %>% \n",
    "  filter(relatheadhh!=\"NA\")%>%\n",
    "  mutate(relatheadhh2=as.numeric(relatheadhh>4))%>%\n",
    "  group_by(Household_ID)%>%\n",
    "  summarise(extfamilies=max(relatheadhh2)) %>% \n",
    "  filter(extfamilies==1) %>% \n",
    "  summarise(pct = n()/total_houses)"
   ]
  },
  {
   "cell_type": "code",
   "execution_count": null,
   "id": "aware-ethnic",
   "metadata": {
    "lines_to_next_cell": 2
   },
   "outputs": [],
   "source": []
  }
 ],
 "metadata": {
  "jupytext": {
   "cell_metadata_filter": "-all",
   "encoding": "# -*- coding: utf-8 -*-",
   "notebook_metadata_filter": "-all",
   "text_representation": {
    "extension": ".R",
    "format_name": "light"
   }
  },
  "kernelspec": {
   "display_name": "R",
   "language": "R",
   "name": "ir"
  },
  "language_info": {
   "codemirror_mode": "r",
   "file_extension": ".r",
   "mimetype": "text/x-r-source",
   "name": "R",
   "pygments_lexer": "r",
   "version": "3.6.1"
  }
 },
 "nbformat": 4,
 "nbformat_minor": 5
}
