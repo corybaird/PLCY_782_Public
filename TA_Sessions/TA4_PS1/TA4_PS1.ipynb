{
 "cells": [
  {
   "cell_type": "markdown",
   "id": "satisfied-watershed",
   "metadata": {},
   "source": [
    "A.1 Install packages"
   ]
  },
  {
   "cell_type": "code",
   "execution_count": null,
   "id": "consistent-orbit",
   "metadata": {},
   "outputs": [],
   "source": [
    "#Step 1\n",
    "#install.packages('downloader')\n",
    "#install.packages('foreign')\n",
    "#install.packages('dplyr')\n",
    "#install.packages('ggplot2')\n",
    "#install.packages('italy')"
   ]
  },
  {
   "cell_type": "code",
   "execution_count": null,
   "id": "distributed-houston",
   "metadata": {},
   "outputs": [],
   "source": [
    "#Step 2\n",
    "library(foreign) #Imports dta files\n",
    "library(dplyr) #Data manipulation\n",
    "library(downloader) #Downloads files from the internet\n",
    "#library(italy)\n",
    "library(ggplot2)"
   ]
  },
  {
   "cell_type": "code",
   "execution_count": null,
   "id": "floral-depression",
   "metadata": {},
   "outputs": [],
   "source": [
    "## A.2 Data set \n",
    "#Step 1\n",
    "#install.packages('italy')\n",
    "#Step 2\n",
    "#library('italy')"
   ]
  },
  {
   "cell_type": "code",
   "execution_count": null,
   "id": "swiss-tension",
   "metadata": {
    "lines_to_next_cell": 2
   },
   "outputs": [],
   "source": [
    "italy_df = read.csv('italy.csv')\n",
    "#italy_df = italy10"
   ]
  },
  {
   "cell_type": "markdown",
   "id": "rubber-serbia",
   "metadata": {},
   "source": [
    "# B.1 Exploratory data analysis"
   ]
  },
  {
   "cell_type": "code",
   "execution_count": null,
   "id": "limited-mexico",
   "metadata": {},
   "outputs": [],
   "source": [
    "#Show first rows\n",
    "italy_df  %>% head(4)"
   ]
  },
  {
   "cell_type": "code",
   "execution_count": null,
   "id": "average-weather",
   "metadata": {},
   "outputs": [],
   "source": [
    "#Show columns\n",
    "italy_df %>% names()"
   ]
  },
  {
   "cell_type": "code",
   "execution_count": null,
   "id": "cardiac-mention",
   "metadata": {},
   "outputs": [],
   "source": [
    "#Summary statistics\n",
    "italy_df  %>% summary()"
   ]
  },
  {
   "cell_type": "code",
   "execution_count": null,
   "id": "contemporary-contemporary",
   "metadata": {},
   "outputs": [],
   "source": [
    "#Data types\n",
    "italy_df  %>% str()"
   ]
  },
  {
   "cell_type": "code",
   "execution_count": null,
   "id": "worth-comparative",
   "metadata": {},
   "outputs": [],
   "source": [
    "### B.1.1 Change column names to lowercase\n",
    "names(italy_df) = italy_df %>% names() %>% tolower()"
   ]
  },
  {
   "cell_type": "markdown",
   "id": "manual-scheme",
   "metadata": {},
   "source": [
    "## B.1.2 Recode"
   ]
  },
  {
   "cell_type": "code",
   "execution_count": null,
   "id": "republican-friend",
   "metadata": {},
   "outputs": [],
   "source": [
    "#already recoded\n",
    "\n",
    "#italy_df = italy_df %>% \n",
    " # rename(\n",
    "  #  \"birth_year\" = \"anasc\",\n",
    "   # \"citizen_status\" = 'qual',\n",
    "    #\"town_size\" = 'studio',\n",
    "    #\"quality_life\" = 'q',\n",
    "    #'working_status' ='nascreg',\n",
    "    #'education_level' = 'sett'\n",
    "    #)"
   ]
  },
  {
   "cell_type": "markdown",
   "id": "healthy-finder",
   "metadata": {},
   "source": [
    "# 1.Provide a table of means and standard deviations of the following variables  "
   ]
  },
  {
   "cell_type": "code",
   "execution_count": null,
   "id": "humanitarian-action",
   "metadata": {},
   "outputs": [],
   "source": [
    "# 1.1 total household size:\n",
    "italy_df %>% \n",
    "  select(parent) %>% \n",
    "  unique()"
   ]
  },
  {
   "cell_type": "code",
   "execution_count": null,
   "id": "lined-personality",
   "metadata": {},
   "outputs": [],
   "source": [
    "italy_df %>% \n",
    "  select(parent) %>% table %>% \n",
    "  sort(decreasing = TRUE)"
   ]
  },
  {
   "cell_type": "code",
   "execution_count": null,
   "id": "lesbian-polyester",
   "metadata": {},
   "outputs": [],
   "source": [
    "italy_df %>% \n",
    "  select(parent) %>% \n",
    "  summary()"
   ]
  },
  {
   "cell_type": "markdown",
   "id": "exposed-things",
   "metadata": {},
   "source": [
    "## 1.1.1 Groupby count"
   ]
  },
  {
   "cell_type": "code",
   "execution_count": null,
   "id": "related-employment",
   "metadata": {
    "lines_to_next_cell": 2
   },
   "outputs": [],
   "source": [
    "#For the sake of this example lets assume the following:\n",
    "#Parent= household, member of house= id\n",
    "# Note: example is extreme because 7864 people are counted as a child of parent 1\n",
    "italy_df %>% \n",
    "  group_by(parent) %>% \n",
    "  count()"
   ]
  },
  {
   "cell_type": "markdown",
   "id": "handled-fireplace",
   "metadata": {},
   "source": [
    "## 1.1.2 Groupby count summary gives us summary stats"
   ]
  },
  {
   "cell_type": "code",
   "execution_count": null,
   "id": "pursuant-agent",
   "metadata": {
    "lines_to_next_cell": 2
   },
   "outputs": [],
   "source": [
    "italy_df %>% \n",
    "  group_by(parent) %>% \n",
    "  count() "
   ]
  },
  {
   "cell_type": "code",
   "execution_count": null,
   "id": "reported-workstation",
   "metadata": {},
   "outputs": [],
   "source": [
    "italy_df %>% \n",
    "  group_by(parent) %>% \n",
    "  count() %>% \n",
    "  summary()"
   ]
  },
  {
   "cell_type": "markdown",
   "id": "adjacent-appointment",
   "metadata": {},
   "source": [
    "## 1.1.3 Alternative method"
   ]
  },
  {
   "cell_type": "code",
   "execution_count": null,
   "id": "twelve-penetration",
   "metadata": {
    "lines_to_next_cell": 2
   },
   "outputs": [],
   "source": [
    "italy_df %>% \n",
    "  group_by(parent) %>% \n",
    "  summarise(members = n()) %>% \n",
    "  pull(members) %>% \n",
    "  mean()"
   ]
  },
  {
   "cell_type": "markdown",
   "id": "disabled-picture",
   "metadata": {},
   "source": [
    "## 1.2 number of children under 18 in the household: \n",
    "Hint: Filter, Groupby and count functions"
   ]
  },
  {
   "cell_type": "markdown",
   "id": "original-narrative",
   "metadata": {},
   "source": [
    "Note: birth_year is year of birth"
   ]
  },
  {
   "cell_type": "code",
   "execution_count": null,
   "id": "worldwide-radar",
   "metadata": {
    "lines_to_next_cell": 2
   },
   "outputs": [],
   "source": [
    "italy_df %>% \n",
    "  filter(birth_year>1990) %>% \n",
    "  group_by(parent) %>% \n",
    "  summarise(members = n())"
   ]
  },
  {
   "cell_type": "markdown",
   "id": "fabulous-occupation",
   "metadata": {},
   "source": [
    "## 1.3 proportion of households with a toilet \n",
    "Hint: Use c_cv.dta\n",
    "Hint:  Mutate summarise"
   ]
  },
  {
   "cell_type": "code",
   "execution_count": null,
   "id": "hidden-country",
   "metadata": {},
   "outputs": [],
   "source": [
    "italy_df %>%\n",
    "  select(citizen_status) %>% \n",
    "  unique()"
   ]
  },
  {
   "cell_type": "code",
   "execution_count": null,
   "id": "formal-dependence",
   "metadata": {},
   "outputs": [],
   "source": [
    "# Let's say that citizen_status==6 is equal to italian citizen\n",
    "italy_df %>% \n",
    "  mutate(citizen_dummy = as.numeric(citizen_status==6)) %>% \n",
    "  summarise(\n",
    "    citizen_pct = mean(citizen_dummy),\n",
    "    citizen_sd = mean(citizen_dummy)\n",
    "  )"
   ]
  },
  {
   "cell_type": "markdown",
   "id": "confidential-modern",
   "metadata": {},
   "source": [
    "## 1.4 proportion with a separate room for sleeping\n",
    "Hint: Mutate summarise"
   ]
  },
  {
   "cell_type": "code",
   "execution_count": null,
   "id": "existing-fifth",
   "metadata": {
    "lines_to_next_cell": 2
   },
   "outputs": [],
   "source": [
    "italy_df %>% \n",
    "  mutate(city_dummy = as.numeric(town_size==1)) %>% \n",
    "  summarise(\n",
    "    city_pct = mean(city_dummy),\n",
    "    city_sd = mean(city_dummy)\n",
    "  )"
   ]
  },
  {
   "cell_type": "markdown",
   "id": "conscious-hayes",
   "metadata": {},
   "source": [
    "## 1.5 and proportion using firewood for cooking\n",
    "Hint: ANSWER"
   ]
  },
  {
   "cell_type": "code",
   "execution_count": null,
   "id": "centered-correlation",
   "metadata": {},
   "outputs": [],
   "source": [
    "# Find cv20_1a in c_cv.dta\n",
    "df_dwelling %>% \n",
    "  mutate(\n",
    "    firewood_dummy = replace(cv20_1a, is.na(cv20_1a), 0)\n",
    "  ) %>% \n",
    "  summarise(\n",
    "    #Add summary stats here\n",
    "  )"
   ]
  },
  {
   "cell_type": "markdown",
   "id": "urban-cameroon",
   "metadata": {},
   "source": [
    "## 2.2. Now we will study the characteristics of the (declared) head of the household.  \n"
   ]
  },
  {
   "cell_type": "markdown",
   "id": "subjective-mechanism",
   "metadata": {},
   "source": [
    "- Find head of household rows (observations) with filter function"
   ]
  },
  {
   "cell_type": "markdown",
   "id": "developing-northwest",
   "metadata": {},
   "source": [
    "# 2.1 average age\n",
    "Filter out na then summarise"
   ]
  },
  {
   "cell_type": "code",
   "execution_count": null,
   "id": "classical-concrete",
   "metadata": {
    "lines_to_next_cell": 2
   },
   "outputs": [],
   "source": [
    "italy_df %>% \n",
    "  filter(citizen_status!='NA') %>% \n",
    "  summarise(mean(citizen_status))"
   ]
  },
  {
   "cell_type": "markdown",
   "id": "brave-values",
   "metadata": {},
   "source": [
    "# 2.2 proportion male\n",
    "Filter out na then summarise"
   ]
  },
  {
   "cell_type": "code",
   "execution_count": null,
   "id": "suspected-fields",
   "metadata": {
    "lines_to_next_cell": 2
   },
   "outputs": [],
   "source": [
    "italy_df %>% \n",
    "  mutate(male_dummy = recode(sex, \"2\"=1, \"1\"=0) )%>% \n",
    "  filter(male_dummy!='NA') %>% \n",
    "  summarise(mean(male_dummy),\n",
    "            sd(male_dummy))"
   ]
  },
  {
   "cell_type": "markdown",
   "id": "weekly-florence",
   "metadata": {},
   "source": [
    "# 2.3 average education level\n",
    "Filter out na then summarise"
   ]
  },
  {
   "cell_type": "code",
   "execution_count": null,
   "id": "random-grocery",
   "metadata": {
    "lines_to_next_cell": 2
   },
   "outputs": [],
   "source": [
    "italy_df %>% \n",
    "  filter(education_level!='NA') %>% \n",
    "  summarise(mean(education_level),\n",
    "            sd(education_level))"
   ]
  },
  {
   "cell_type": "markdown",
   "id": "engaging-brick",
   "metadata": {},
   "source": [
    "# 2.4 proportion who are working and average earnings in the past year.\n",
    "Filter out na then summarise"
   ]
  },
  {
   "cell_type": "code",
   "execution_count": null,
   "id": "billion-check",
   "metadata": {
    "lines_to_next_cell": 2
   },
   "outputs": [],
   "source": [
    "italy_df %>% \n",
    "  filter(working_status!='NA' & quality_life!='NA') %>% \n",
    "  summarise(mean(working_status),\n",
    "            mean(quality_life))"
   ]
  },
  {
   "cell_type": "markdown",
   "id": "reasonable-priest",
   "metadata": {},
   "source": [
    "3. Now we will study the characteristics of children in the household between the ages of 6 and 18. \n",
    "# 3.A Filter ages"
   ]
  },
  {
   "cell_type": "code",
   "execution_count": null,
   "id": "blind-china",
   "metadata": {
    "lines_to_next_cell": 2
   },
   "outputs": [],
   "source": [
    "italy_df %>% \n",
    "  filter(birth_year>1990 & birth_year<2010) %>% \n",
    "  summarise(\n",
    "    mean(cit)\n",
    "  )"
   ]
  },
  {
   "cell_type": "markdown",
   "id": "innovative-usage",
   "metadata": {},
   "source": [
    "# 3.1 Make a graph of the proportion of children who attend school by age and by gender. "
   ]
  },
  {
   "cell_type": "code",
   "execution_count": null,
   "id": "transsexual-technician",
   "metadata": {
    "lines_to_next_cell": 2
   },
   "outputs": [],
   "source": [
    "italy_df %>% \n",
    "  filter(birth_year>1990 & birth_year<2010) %>% \n",
    "  mutate(city_dummy = as.numeric(town_size==1)) %>%\n",
    "  group_by(city_dummy) %>% \n",
    "  summarise(\n",
    "    city_living = mean(cit)\n",
    "  ) %>% ggplot(aes(x=city_dummy, y=city_living))+ geom_bar(stat=\"identity\") + \n",
    "  xlab('Attendance (%)') + \n",
    "  ylab('Age')"
   ]
  }
 ],
 "metadata": {
  "jupytext": {
   "cell_metadata_filter": "-all",
   "notebook_metadata_filter": "-all",
   "text_representation": {
    "extension": ".R",
    "format_name": "light"
   }
  },
  "kernelspec": {
   "display_name": "R (system-wide)",
   "language": "R",
   "name": "ir"
  }
 },
 "nbformat": 4,
 "nbformat_minor": 5
}
